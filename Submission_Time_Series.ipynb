{
  "nbformat": 4,
  "nbformat_minor": 0,
  "metadata": {
    "colab": {
      "provenance": []
    },
    "kernelspec": {
      "name": "python3",
      "display_name": "Python 3"
    },
    "language_info": {
      "name": "python"
    }
  },
  "cells": [
    {
      "cell_type": "code",
      "execution_count": 1,
      "metadata": {
        "id": "GxAiGg6Kuu7w"
      },
      "outputs": [],
      "source": [
        "import numpy as np\n",
        "import pandas as pd\n",
        "from keras.layers import Dense, LSTM\n",
        "import matplotlib.pyplot as plt\n",
        "import tensorflow as tf"
      ]
    },
    {
      "cell_type": "code",
      "source": [
        "data = pd.read_csv('/content/GlobalLandTemperaturesByCountry.csv')\n",
        "data"
      ],
      "metadata": {
        "colab": {
          "base_uri": "https://localhost:8080/",
          "height": 424
        },
        "id": "tWY5V8nhJ90A",
        "outputId": "37f7924f-7fee-481c-8b05-af400c4e9a48"
      },
      "execution_count": 4,
      "outputs": [
        {
          "output_type": "execute_result",
          "data": {
            "text/plain": [
              "                dt  AverageTemperature  AverageTemperatureUncertainty  \\\n",
              "0       1743-11-01               4.384                          2.294   \n",
              "1       1743-12-01                 NaN                            NaN   \n",
              "2       1744-01-01                 NaN                            NaN   \n",
              "3       1744-02-01                 NaN                            NaN   \n",
              "4       1744-03-01                 NaN                            NaN   \n",
              "...            ...                 ...                            ...   \n",
              "456950  1907-05-01              29.605                          0.834   \n",
              "456951  1907-06-01              32.434                          0.805   \n",
              "456952  1907-07-01              33.956                          0.654   \n",
              "456953  1907-08-01              33.135                          0.894   \n",
              "456954  1907-09-01              30.695                          0.872   \n",
              "\n",
              "             Country  \n",
              "0              Åland  \n",
              "1              Åland  \n",
              "2              Åland  \n",
              "3              Åland  \n",
              "4              Åland  \n",
              "...              ...  \n",
              "456950  Saudi Arabia  \n",
              "456951  Saudi Arabia  \n",
              "456952  Saudi Arabia  \n",
              "456953  Saudi Arabia  \n",
              "456954        Saudi   \n",
              "\n",
              "[456955 rows x 4 columns]"
            ],
            "text/html": [
              "\n",
              "  <div id=\"df-3f12aeda-0672-48f8-aef2-61c2d2a811e4\">\n",
              "    <div class=\"colab-df-container\">\n",
              "      <div>\n",
              "<style scoped>\n",
              "    .dataframe tbody tr th:only-of-type {\n",
              "        vertical-align: middle;\n",
              "    }\n",
              "\n",
              "    .dataframe tbody tr th {\n",
              "        vertical-align: top;\n",
              "    }\n",
              "\n",
              "    .dataframe thead th {\n",
              "        text-align: right;\n",
              "    }\n",
              "</style>\n",
              "<table border=\"1\" class=\"dataframe\">\n",
              "  <thead>\n",
              "    <tr style=\"text-align: right;\">\n",
              "      <th></th>\n",
              "      <th>dt</th>\n",
              "      <th>AverageTemperature</th>\n",
              "      <th>AverageTemperatureUncertainty</th>\n",
              "      <th>Country</th>\n",
              "    </tr>\n",
              "  </thead>\n",
              "  <tbody>\n",
              "    <tr>\n",
              "      <th>0</th>\n",
              "      <td>1743-11-01</td>\n",
              "      <td>4.384</td>\n",
              "      <td>2.294</td>\n",
              "      <td>Åland</td>\n",
              "    </tr>\n",
              "    <tr>\n",
              "      <th>1</th>\n",
              "      <td>1743-12-01</td>\n",
              "      <td>NaN</td>\n",
              "      <td>NaN</td>\n",
              "      <td>Åland</td>\n",
              "    </tr>\n",
              "    <tr>\n",
              "      <th>2</th>\n",
              "      <td>1744-01-01</td>\n",
              "      <td>NaN</td>\n",
              "      <td>NaN</td>\n",
              "      <td>Åland</td>\n",
              "    </tr>\n",
              "    <tr>\n",
              "      <th>3</th>\n",
              "      <td>1744-02-01</td>\n",
              "      <td>NaN</td>\n",
              "      <td>NaN</td>\n",
              "      <td>Åland</td>\n",
              "    </tr>\n",
              "    <tr>\n",
              "      <th>4</th>\n",
              "      <td>1744-03-01</td>\n",
              "      <td>NaN</td>\n",
              "      <td>NaN</td>\n",
              "      <td>Åland</td>\n",
              "    </tr>\n",
              "    <tr>\n",
              "      <th>...</th>\n",
              "      <td>...</td>\n",
              "      <td>...</td>\n",
              "      <td>...</td>\n",
              "      <td>...</td>\n",
              "    </tr>\n",
              "    <tr>\n",
              "      <th>456950</th>\n",
              "      <td>1907-05-01</td>\n",
              "      <td>29.605</td>\n",
              "      <td>0.834</td>\n",
              "      <td>Saudi Arabia</td>\n",
              "    </tr>\n",
              "    <tr>\n",
              "      <th>456951</th>\n",
              "      <td>1907-06-01</td>\n",
              "      <td>32.434</td>\n",
              "      <td>0.805</td>\n",
              "      <td>Saudi Arabia</td>\n",
              "    </tr>\n",
              "    <tr>\n",
              "      <th>456952</th>\n",
              "      <td>1907-07-01</td>\n",
              "      <td>33.956</td>\n",
              "      <td>0.654</td>\n",
              "      <td>Saudi Arabia</td>\n",
              "    </tr>\n",
              "    <tr>\n",
              "      <th>456953</th>\n",
              "      <td>1907-08-01</td>\n",
              "      <td>33.135</td>\n",
              "      <td>0.894</td>\n",
              "      <td>Saudi Arabia</td>\n",
              "    </tr>\n",
              "    <tr>\n",
              "      <th>456954</th>\n",
              "      <td>1907-09-01</td>\n",
              "      <td>30.695</td>\n",
              "      <td>0.872</td>\n",
              "      <td>Saudi</td>\n",
              "    </tr>\n",
              "  </tbody>\n",
              "</table>\n",
              "<p>456955 rows × 4 columns</p>\n",
              "</div>\n",
              "      <button class=\"colab-df-convert\" onclick=\"convertToInteractive('df-3f12aeda-0672-48f8-aef2-61c2d2a811e4')\"\n",
              "              title=\"Convert this dataframe to an interactive table.\"\n",
              "              style=\"display:none;\">\n",
              "        \n",
              "  <svg xmlns=\"http://www.w3.org/2000/svg\" height=\"24px\"viewBox=\"0 0 24 24\"\n",
              "       width=\"24px\">\n",
              "    <path d=\"M0 0h24v24H0V0z\" fill=\"none\"/>\n",
              "    <path d=\"M18.56 5.44l.94 2.06.94-2.06 2.06-.94-2.06-.94-.94-2.06-.94 2.06-2.06.94zm-11 1L8.5 8.5l.94-2.06 2.06-.94-2.06-.94L8.5 2.5l-.94 2.06-2.06.94zm10 10l.94 2.06.94-2.06 2.06-.94-2.06-.94-.94-2.06-.94 2.06-2.06.94z\"/><path d=\"M17.41 7.96l-1.37-1.37c-.4-.4-.92-.59-1.43-.59-.52 0-1.04.2-1.43.59L10.3 9.45l-7.72 7.72c-.78.78-.78 2.05 0 2.83L4 21.41c.39.39.9.59 1.41.59.51 0 1.02-.2 1.41-.59l7.78-7.78 2.81-2.81c.8-.78.8-2.07 0-2.86zM5.41 20L4 18.59l7.72-7.72 1.47 1.35L5.41 20z\"/>\n",
              "  </svg>\n",
              "      </button>\n",
              "      \n",
              "  <style>\n",
              "    .colab-df-container {\n",
              "      display:flex;\n",
              "      flex-wrap:wrap;\n",
              "      gap: 12px;\n",
              "    }\n",
              "\n",
              "    .colab-df-convert {\n",
              "      background-color: #E8F0FE;\n",
              "      border: none;\n",
              "      border-radius: 50%;\n",
              "      cursor: pointer;\n",
              "      display: none;\n",
              "      fill: #1967D2;\n",
              "      height: 32px;\n",
              "      padding: 0 0 0 0;\n",
              "      width: 32px;\n",
              "    }\n",
              "\n",
              "    .colab-df-convert:hover {\n",
              "      background-color: #E2EBFA;\n",
              "      box-shadow: 0px 1px 2px rgba(60, 64, 67, 0.3), 0px 1px 3px 1px rgba(60, 64, 67, 0.15);\n",
              "      fill: #174EA6;\n",
              "    }\n",
              "\n",
              "    [theme=dark] .colab-df-convert {\n",
              "      background-color: #3B4455;\n",
              "      fill: #D2E3FC;\n",
              "    }\n",
              "\n",
              "    [theme=dark] .colab-df-convert:hover {\n",
              "      background-color: #434B5C;\n",
              "      box-shadow: 0px 1px 3px 1px rgba(0, 0, 0, 0.15);\n",
              "      filter: drop-shadow(0px 1px 2px rgba(0, 0, 0, 0.3));\n",
              "      fill: #FFFFFF;\n",
              "    }\n",
              "  </style>\n",
              "\n",
              "      <script>\n",
              "        const buttonEl =\n",
              "          document.querySelector('#df-3f12aeda-0672-48f8-aef2-61c2d2a811e4 button.colab-df-convert');\n",
              "        buttonEl.style.display =\n",
              "          google.colab.kernel.accessAllowed ? 'block' : 'none';\n",
              "\n",
              "        async function convertToInteractive(key) {\n",
              "          const element = document.querySelector('#df-3f12aeda-0672-48f8-aef2-61c2d2a811e4');\n",
              "          const dataTable =\n",
              "            await google.colab.kernel.invokeFunction('convertToInteractive',\n",
              "                                                     [key], {});\n",
              "          if (!dataTable) return;\n",
              "\n",
              "          const docLinkHtml = 'Like what you see? Visit the ' +\n",
              "            '<a target=\"_blank\" href=https://colab.research.google.com/notebooks/data_table.ipynb>data table notebook</a>'\n",
              "            + ' to learn more about interactive tables.';\n",
              "          element.innerHTML = '';\n",
              "          dataTable['output_type'] = 'display_data';\n",
              "          await google.colab.output.renderOutput(dataTable, element);\n",
              "          const docLink = document.createElement('div');\n",
              "          docLink.innerHTML = docLinkHtml;\n",
              "          element.appendChild(docLink);\n",
              "        }\n",
              "      </script>\n",
              "    </div>\n",
              "  </div>\n",
              "  "
            ]
          },
          "metadata": {},
          "execution_count": 4
        }
      ]
    },
    {
      "cell_type": "code",
      "source": [
        "data = data.loc[data['Country'].isin(['Indonesia'])]\n",
        "data"
      ],
      "metadata": {
        "colab": {
          "base_uri": "https://localhost:8080/",
          "height": 424
        },
        "id": "BCBmioumWnnv",
        "outputId": "64127252-0e4a-4677-d1b4-05b7e0cf898b"
      },
      "execution_count": 5,
      "outputs": [
        {
          "output_type": "execute_result",
          "data": {
            "text/plain": [
              "                dt  AverageTemperature  AverageTemperatureUncertainty  \\\n",
              "246308  1825-01-01              25.915                          1.825   \n",
              "246309  1825-02-01              25.385                          0.973   \n",
              "246310  1825-03-01              25.687                          1.656   \n",
              "246311  1825-04-01              26.302                          1.897   \n",
              "246312  1825-05-01              25.705                          0.902   \n",
              "...            ...                 ...                            ...   \n",
              "248568  2013-05-01              26.818                          0.154   \n",
              "248569  2013-06-01              26.881                          0.248   \n",
              "248570  2013-07-01              25.902                          0.164   \n",
              "248571  2013-08-01              25.961                          0.319   \n",
              "248572  2013-09-01                 NaN                            NaN   \n",
              "\n",
              "          Country  \n",
              "246308  Indonesia  \n",
              "246309  Indonesia  \n",
              "246310  Indonesia  \n",
              "246311  Indonesia  \n",
              "246312  Indonesia  \n",
              "...           ...  \n",
              "248568  Indonesia  \n",
              "248569  Indonesia  \n",
              "248570  Indonesia  \n",
              "248571  Indonesia  \n",
              "248572  Indonesia  \n",
              "\n",
              "[2265 rows x 4 columns]"
            ],
            "text/html": [
              "\n",
              "  <div id=\"df-ba01164b-3e94-4832-9e47-bdff035bcfce\">\n",
              "    <div class=\"colab-df-container\">\n",
              "      <div>\n",
              "<style scoped>\n",
              "    .dataframe tbody tr th:only-of-type {\n",
              "        vertical-align: middle;\n",
              "    }\n",
              "\n",
              "    .dataframe tbody tr th {\n",
              "        vertical-align: top;\n",
              "    }\n",
              "\n",
              "    .dataframe thead th {\n",
              "        text-align: right;\n",
              "    }\n",
              "</style>\n",
              "<table border=\"1\" class=\"dataframe\">\n",
              "  <thead>\n",
              "    <tr style=\"text-align: right;\">\n",
              "      <th></th>\n",
              "      <th>dt</th>\n",
              "      <th>AverageTemperature</th>\n",
              "      <th>AverageTemperatureUncertainty</th>\n",
              "      <th>Country</th>\n",
              "    </tr>\n",
              "  </thead>\n",
              "  <tbody>\n",
              "    <tr>\n",
              "      <th>246308</th>\n",
              "      <td>1825-01-01</td>\n",
              "      <td>25.915</td>\n",
              "      <td>1.825</td>\n",
              "      <td>Indonesia</td>\n",
              "    </tr>\n",
              "    <tr>\n",
              "      <th>246309</th>\n",
              "      <td>1825-02-01</td>\n",
              "      <td>25.385</td>\n",
              "      <td>0.973</td>\n",
              "      <td>Indonesia</td>\n",
              "    </tr>\n",
              "    <tr>\n",
              "      <th>246310</th>\n",
              "      <td>1825-03-01</td>\n",
              "      <td>25.687</td>\n",
              "      <td>1.656</td>\n",
              "      <td>Indonesia</td>\n",
              "    </tr>\n",
              "    <tr>\n",
              "      <th>246311</th>\n",
              "      <td>1825-04-01</td>\n",
              "      <td>26.302</td>\n",
              "      <td>1.897</td>\n",
              "      <td>Indonesia</td>\n",
              "    </tr>\n",
              "    <tr>\n",
              "      <th>246312</th>\n",
              "      <td>1825-05-01</td>\n",
              "      <td>25.705</td>\n",
              "      <td>0.902</td>\n",
              "      <td>Indonesia</td>\n",
              "    </tr>\n",
              "    <tr>\n",
              "      <th>...</th>\n",
              "      <td>...</td>\n",
              "      <td>...</td>\n",
              "      <td>...</td>\n",
              "      <td>...</td>\n",
              "    </tr>\n",
              "    <tr>\n",
              "      <th>248568</th>\n",
              "      <td>2013-05-01</td>\n",
              "      <td>26.818</td>\n",
              "      <td>0.154</td>\n",
              "      <td>Indonesia</td>\n",
              "    </tr>\n",
              "    <tr>\n",
              "      <th>248569</th>\n",
              "      <td>2013-06-01</td>\n",
              "      <td>26.881</td>\n",
              "      <td>0.248</td>\n",
              "      <td>Indonesia</td>\n",
              "    </tr>\n",
              "    <tr>\n",
              "      <th>248570</th>\n",
              "      <td>2013-07-01</td>\n",
              "      <td>25.902</td>\n",
              "      <td>0.164</td>\n",
              "      <td>Indonesia</td>\n",
              "    </tr>\n",
              "    <tr>\n",
              "      <th>248571</th>\n",
              "      <td>2013-08-01</td>\n",
              "      <td>25.961</td>\n",
              "      <td>0.319</td>\n",
              "      <td>Indonesia</td>\n",
              "    </tr>\n",
              "    <tr>\n",
              "      <th>248572</th>\n",
              "      <td>2013-09-01</td>\n",
              "      <td>NaN</td>\n",
              "      <td>NaN</td>\n",
              "      <td>Indonesia</td>\n",
              "    </tr>\n",
              "  </tbody>\n",
              "</table>\n",
              "<p>2265 rows × 4 columns</p>\n",
              "</div>\n",
              "      <button class=\"colab-df-convert\" onclick=\"convertToInteractive('df-ba01164b-3e94-4832-9e47-bdff035bcfce')\"\n",
              "              title=\"Convert this dataframe to an interactive table.\"\n",
              "              style=\"display:none;\">\n",
              "        \n",
              "  <svg xmlns=\"http://www.w3.org/2000/svg\" height=\"24px\"viewBox=\"0 0 24 24\"\n",
              "       width=\"24px\">\n",
              "    <path d=\"M0 0h24v24H0V0z\" fill=\"none\"/>\n",
              "    <path d=\"M18.56 5.44l.94 2.06.94-2.06 2.06-.94-2.06-.94-.94-2.06-.94 2.06-2.06.94zm-11 1L8.5 8.5l.94-2.06 2.06-.94-2.06-.94L8.5 2.5l-.94 2.06-2.06.94zm10 10l.94 2.06.94-2.06 2.06-.94-2.06-.94-.94-2.06-.94 2.06-2.06.94z\"/><path d=\"M17.41 7.96l-1.37-1.37c-.4-.4-.92-.59-1.43-.59-.52 0-1.04.2-1.43.59L10.3 9.45l-7.72 7.72c-.78.78-.78 2.05 0 2.83L4 21.41c.39.39.9.59 1.41.59.51 0 1.02-.2 1.41-.59l7.78-7.78 2.81-2.81c.8-.78.8-2.07 0-2.86zM5.41 20L4 18.59l7.72-7.72 1.47 1.35L5.41 20z\"/>\n",
              "  </svg>\n",
              "      </button>\n",
              "      \n",
              "  <style>\n",
              "    .colab-df-container {\n",
              "      display:flex;\n",
              "      flex-wrap:wrap;\n",
              "      gap: 12px;\n",
              "    }\n",
              "\n",
              "    .colab-df-convert {\n",
              "      background-color: #E8F0FE;\n",
              "      border: none;\n",
              "      border-radius: 50%;\n",
              "      cursor: pointer;\n",
              "      display: none;\n",
              "      fill: #1967D2;\n",
              "      height: 32px;\n",
              "      padding: 0 0 0 0;\n",
              "      width: 32px;\n",
              "    }\n",
              "\n",
              "    .colab-df-convert:hover {\n",
              "      background-color: #E2EBFA;\n",
              "      box-shadow: 0px 1px 2px rgba(60, 64, 67, 0.3), 0px 1px 3px 1px rgba(60, 64, 67, 0.15);\n",
              "      fill: #174EA6;\n",
              "    }\n",
              "\n",
              "    [theme=dark] .colab-df-convert {\n",
              "      background-color: #3B4455;\n",
              "      fill: #D2E3FC;\n",
              "    }\n",
              "\n",
              "    [theme=dark] .colab-df-convert:hover {\n",
              "      background-color: #434B5C;\n",
              "      box-shadow: 0px 1px 3px 1px rgba(0, 0, 0, 0.15);\n",
              "      filter: drop-shadow(0px 1px 2px rgba(0, 0, 0, 0.3));\n",
              "      fill: #FFFFFF;\n",
              "    }\n",
              "  </style>\n",
              "\n",
              "      <script>\n",
              "        const buttonEl =\n",
              "          document.querySelector('#df-ba01164b-3e94-4832-9e47-bdff035bcfce button.colab-df-convert');\n",
              "        buttonEl.style.display =\n",
              "          google.colab.kernel.accessAllowed ? 'block' : 'none';\n",
              "\n",
              "        async function convertToInteractive(key) {\n",
              "          const element = document.querySelector('#df-ba01164b-3e94-4832-9e47-bdff035bcfce');\n",
              "          const dataTable =\n",
              "            await google.colab.kernel.invokeFunction('convertToInteractive',\n",
              "                                                     [key], {});\n",
              "          if (!dataTable) return;\n",
              "\n",
              "          const docLinkHtml = 'Like what you see? Visit the ' +\n",
              "            '<a target=\"_blank\" href=https://colab.research.google.com/notebooks/data_table.ipynb>data table notebook</a>'\n",
              "            + ' to learn more about interactive tables.';\n",
              "          element.innerHTML = '';\n",
              "          dataTable['output_type'] = 'display_data';\n",
              "          await google.colab.output.renderOutput(dataTable, element);\n",
              "          const docLink = document.createElement('div');\n",
              "          docLink.innerHTML = docLinkHtml;\n",
              "          element.appendChild(docLink);\n",
              "        }\n",
              "      </script>\n",
              "    </div>\n",
              "  </div>\n",
              "  "
            ]
          },
          "metadata": {},
          "execution_count": 5
        }
      ]
    },
    {
      "cell_type": "code",
      "source": [
        "data.isnull().sum()"
      ],
      "metadata": {
        "colab": {
          "base_uri": "https://localhost:8080/"
        },
        "id": "Bik8fJNPNlC7",
        "outputId": "a1a0b036-7f0f-4c0e-96c3-8950821e3c64"
      },
      "execution_count": 6,
      "outputs": [
        {
          "output_type": "execute_result",
          "data": {
            "text/plain": [
              "dt                                 0\n",
              "AverageTemperature               386\n",
              "AverageTemperatureUncertainty    386\n",
              "Country                            0\n",
              "dtype: int64"
            ]
          },
          "metadata": {},
          "execution_count": 6
        }
      ]
    },
    {
      "cell_type": "code",
      "source": [
        "data.dropna(subset=['AverageTemperature'],inplace=True)\n",
        "data.dropna(subset=['AverageTemperatureUncertainty'],inplace=True)"
      ],
      "metadata": {
        "colab": {
          "base_uri": "https://localhost:8080/"
        },
        "id": "nVKtTZzwNsDT",
        "outputId": "959715f4-f1fd-42a0-8a7e-88731981648d"
      },
      "execution_count": 7,
      "outputs": [
        {
          "output_type": "stream",
          "name": "stderr",
          "text": [
            "/usr/local/lib/python3.7/dist-packages/pandas/util/_decorators.py:311: SettingWithCopyWarning: \n",
            "A value is trying to be set on a copy of a slice from a DataFrame\n",
            "\n",
            "See the caveats in the documentation: https://pandas.pydata.org/pandas-docs/stable/user_guide/indexing.html#returning-a-view-versus-a-copy\n",
            "  return func(*args, **kwargs)\n"
          ]
        }
      ]
    },
    {
      "cell_type": "code",
      "source": [
        "data.isnull().sum()"
      ],
      "metadata": {
        "colab": {
          "base_uri": "https://localhost:8080/"
        },
        "id": "1btqXSYKNzEK",
        "outputId": "43fe3227-904e-470b-cbc3-eccf5d8a43d5"
      },
      "execution_count": 8,
      "outputs": [
        {
          "output_type": "execute_result",
          "data": {
            "text/plain": [
              "dt                               0\n",
              "AverageTemperature               0\n",
              "AverageTemperatureUncertainty    0\n",
              "Country                          0\n",
              "dtype: int64"
            ]
          },
          "metadata": {},
          "execution_count": 8
        }
      ]
    },
    {
      "cell_type": "code",
      "source": [
        "dates = data['dt'].values\n",
        "temp  = data['AverageTemperature'].values\n",
        "\n",
        "plt.figure(figsize=(15,5))\n",
        "plt.plot(dates, temp)\n",
        "plt.title('Temperature average Indonesia',\n",
        "          fontsize=20);"
      ],
      "metadata": {
        "colab": {
          "base_uri": "https://localhost:8080/",
          "height": 333
        },
        "id": "ff4ZkUXoN0ri",
        "outputId": "315a0d73-d05f-4e8d-d302-cae8c26391be"
      },
      "execution_count": 9,
      "outputs": [
        {
          "output_type": "display_data",
          "data": {
            "text/plain": [
              "<Figure size 1080x360 with 1 Axes>"
            ],
            "image/png": "[encoded data removed]"
          },
          "metadata": {
            "needs_background": "light"
          }
        }
      ]
    },
    {
      "cell_type": "code",
      "source": [
        "from sklearn.model_selection import train_test_split\n",
        "\n",
        "x_train, x_val, y_train, y_val = train_test_split(temp, dates, train_size=0.8, test_size = 0.2, shuffle = False )"
      ],
      "metadata": {
        "id": "C8gZN-nZXQTf"
      },
      "execution_count": 10,
      "outputs": []
    },
    {
      "cell_type": "code",
      "source": [
        "def windowed_dataset(series, window_size, batch_size, shuffle_buffer):\n",
        "    series = tf.expand_dims(series, axis=-1)\n",
        "    ds = tf.data.Dataset.from_tensor_slices(series)\n",
        "    ds = ds.window(window_size + 1, shift=1, drop_remainder=True)\n",
        "    ds = ds.flat_map(lambda w: w.batch(window_size + 1))\n",
        "    ds = ds.shuffle(shuffle_buffer)\n",
        "    ds = ds.map(lambda w: (w[:-1], w[-1:]))\n",
        "    return ds.batch(batch_size).prefetch(1)"
      ],
      "metadata": {
        "id": "8vfs5PT4QuUe"
      },
      "execution_count": 11,
      "outputs": []
    },
    {
      "cell_type": "code",
      "source": [
        "from tensorflow.keras.models import Sequential\n",
        "from tensorflow.keras.layers import LSTM, Dense\n",
        "\n",
        "train_set = windowed_dataset(x_train, window_size=60, batch_size=100, shuffle_buffer=1000)\n",
        "val_set = windowed_dataset(x_val, window_size=60, batch_size=100, shuffle_buffer=1000)\n",
        "\n",
        "model = tf.keras.models.Sequential([\n",
        "  tf.keras.layers.LSTM(60, return_sequences=True),\n",
        "  tf.keras.layers.LSTM(60),\n",
        "  tf.keras.layers.Dense(30, activation=\"relu\"),\n",
        "  tf.keras.layers.Dense(10, activation=\"relu\"),\n",
        "  tf.keras.layers.Dense(1),\n",
        "])"
      ],
      "metadata": {
        "id": "RGkxwFGXQypI"
      },
      "execution_count": 12,
      "outputs": []
    },
    {
      "cell_type": "code",
      "source": [
        "# menghitung minimum MAE\n",
        "threshold = (temp.max() - temp.min()) * 10/100\n",
        "threshold"
      ],
      "metadata": {
        "colab": {
          "base_uri": "https://localhost:8080/"
        },
        "id": "ZC_klCUlkVV1",
        "outputId": "6452cfb7-93fa-4a95-9d38-4323d1f37f25"
      },
      "execution_count": 13,
      "outputs": [
        {
          "output_type": "execute_result",
          "data": {
            "text/plain": [
              "0.37480000000000013"
            ]
          },
          "metadata": {},
          "execution_count": 13
        }
      ]
    },
    {
      "cell_type": "code",
      "source": [
        "class myCallback(tf.keras.callbacks.Callback):\n",
        "  def on_epoch_end(self, epoch, logs={}):\n",
        "    if(logs.get('mae')<threshold):\n",
        "      print(\"\\nMAE dari model < 10% skala data\")\n",
        "      self.model.stop_training = True\n",
        "callbacks = myCallback()"
      ],
      "metadata": {
        "id": "HGqViZKxRkkP"
      },
      "execution_count": 14,
      "outputs": []
    },
    {
      "cell_type": "code",
      "source": [
        "optimizer = tf.keras.optimizers.SGD(lr=1.0000e-04, momentum=0.9)\n",
        "model.compile(loss=tf.keras.losses.Huber(),\n",
        "              optimizer=optimizer,\n",
        "              metrics=[\"mae\"])\n",
        "\n",
        "history = model.fit(train_set,epochs=100,validation_data = val_set,callbacks=[callbacks])"
      ],
      "metadata": {
        "colab": {
          "base_uri": "https://localhost:8080/"
        },
        "id": "AdPCA_rJRtqX",
        "outputId": "a12caf06-9b0d-4c99-ecff-0474536cd105"
      },
      "execution_count": 15,
      "outputs": [
        {
          "output_type": "stream",
          "name": "stdout",
          "text": [
            "Epoch 1/100\n"
          ]
        },
        {
          "output_type": "stream",
          "name": "stderr",
          "text": [
            "/usr/local/lib/python3.7/dist-packages/keras/optimizer_v2/gradient_descent.py:102: UserWarning: The `lr` argument is deprecated, use `learning_rate` instead.\n",
            "  super(SGD, self).__init__(name, **kwargs)\n"
          ]
        },
        {
          "output_type": "stream",
          "name": "stdout",
          "text": [
            "15/15 [==============================] - 7s 173ms/step - loss: 25.2887 - mae: 25.7887 - val_loss: 25.9365 - val_mae: 26.4365\n",
            "Epoch 2/100\n",
            "15/15 [==============================] - 2s 108ms/step - loss: 25.1312 - mae: 25.6312 - val_loss: 25.8081 - val_mae: 26.3081\n",
            "Epoch 3/100\n",
            "15/15 [==============================] - 2s 106ms/step - loss: 25.0145 - mae: 25.5145 - val_loss: 25.6993 - val_mae: 26.1993\n",
            "Epoch 4/100\n",
            "15/15 [==============================] - 2s 105ms/step - loss: 24.9060 - mae: 25.4060 - val_loss: 25.5915 - val_mae: 26.0915\n",
            "Epoch 5/100\n",
            "15/15 [==============================] - 2s 104ms/step - loss: 24.7993 - mae: 25.2993 - val_loss: 25.4859 - val_mae: 25.9859\n",
            "Epoch 6/100\n",
            "15/15 [==============================] - 2s 104ms/step - loss: 24.6959 - mae: 25.1959 - val_loss: 25.3849 - val_mae: 25.8849\n",
            "Epoch 7/100\n",
            "15/15 [==============================] - 2s 107ms/step - loss: 24.5942 - mae: 25.0942 - val_loss: 25.2819 - val_mae: 25.7819\n",
            "Epoch 8/100\n",
            "15/15 [==============================] - 2s 109ms/step - loss: 24.4849 - mae: 24.9849 - val_loss: 25.1568 - val_mae: 25.6568\n",
            "Epoch 9/100\n",
            "15/15 [==============================] - 2s 107ms/step - loss: 24.3342 - mae: 24.8342 - val_loss: 24.9790 - val_mae: 25.4790\n",
            "Epoch 10/100\n",
            "15/15 [==============================] - 2s 104ms/step - loss: 24.1432 - mae: 24.6432 - val_loss: 24.7758 - val_mae: 25.2758\n",
            "Epoch 11/100\n",
            "15/15 [==============================] - 2s 107ms/step - loss: 23.9334 - mae: 24.4334 - val_loss: 24.5540 - val_mae: 25.0540\n",
            "Epoch 12/100\n",
            "15/15 [==============================] - 2s 107ms/step - loss: 23.7007 - mae: 24.2007 - val_loss: 24.3066 - val_mae: 24.8066\n",
            "Epoch 13/100\n",
            "15/15 [==============================] - 2s 105ms/step - loss: 23.4386 - mae: 23.9386 - val_loss: 24.0248 - val_mae: 24.5248\n",
            "Epoch 14/100\n",
            "15/15 [==============================] - 2s 105ms/step - loss: 23.1405 - mae: 23.6405 - val_loss: 23.7031 - val_mae: 24.2031\n",
            "Epoch 15/100\n",
            "15/15 [==============================] - 2s 105ms/step - loss: 22.7968 - mae: 23.2968 - val_loss: 23.3295 - val_mae: 23.8295\n",
            "Epoch 16/100\n",
            "15/15 [==============================] - 2s 107ms/step - loss: 22.3946 - mae: 22.8946 - val_loss: 22.8886 - val_mae: 23.3886\n",
            "Epoch 17/100\n",
            "15/15 [==============================] - 2s 113ms/step - loss: 21.9157 - mae: 22.4157 - val_loss: 22.3580 - val_mae: 22.8580\n",
            "Epoch 18/100\n",
            "15/15 [==============================] - 2s 111ms/step - loss: 21.3350 - mae: 21.8350 - val_loss: 21.7083 - val_mae: 22.2083\n",
            "Epoch 19/100\n",
            "15/15 [==============================] - 2s 103ms/step - loss: 20.6181 - mae: 21.1181 - val_loss: 20.8984 - val_mae: 21.3984\n",
            "Epoch 20/100\n",
            "15/15 [==============================] - 2s 107ms/step - loss: 19.7178 - mae: 20.2178 - val_loss: 19.8725 - val_mae: 20.3725\n",
            "Epoch 21/100\n",
            "15/15 [==============================] - 2s 106ms/step - loss: 18.5666 - mae: 19.0666 - val_loss: 18.5463 - val_mae: 19.0463\n",
            "Epoch 22/100\n",
            "15/15 [==============================] - 2s 106ms/step - loss: 17.0636 - mae: 17.5636 - val_loss: 16.7935 - val_mae: 17.2935\n",
            "Epoch 23/100\n",
            "15/15 [==============================] - 2s 105ms/step - loss: 15.0522 - mae: 15.5522 - val_loss: 14.4126 - val_mae: 14.9126\n",
            "Epoch 24/100\n",
            "15/15 [==============================] - 2s 106ms/step - loss: 12.2776 - mae: 12.7776 - val_loss: 11.0657 - val_mae: 11.5657\n",
            "Epoch 25/100\n",
            "15/15 [==============================] - 2s 105ms/step - loss: 8.3034 - mae: 8.8034 - val_loss: 6.1663 - val_mae: 6.6663\n",
            "Epoch 26/100\n",
            "15/15 [==============================] - 2s 104ms/step - loss: 2.4942 - mae: 2.9514 - val_loss: 0.1228 - val_mae: 0.4217\n",
            "Epoch 27/100\n",
            "15/15 [==============================] - 2s 105ms/step - loss: 0.6191 - mae: 1.0394 - val_loss: 0.8927 - val_mae: 1.3916\n",
            "Epoch 28/100\n",
            "15/15 [==============================] - 2s 106ms/step - loss: 0.1933 - mae: 0.5222 - val_loss: 0.0967 - val_mae: 0.3508\n",
            "Epoch 29/100\n",
            "15/15 [==============================] - 2s 106ms/step - loss: 0.1262 - mae: 0.4120 - val_loss: 0.3692 - val_mae: 0.8108\n",
            "Epoch 30/100\n",
            "15/15 [==============================] - ETA: 0s - loss: 0.0966 - mae: 0.3582\n",
            "MAE dari model < 10% skala data\n",
            "15/15 [==============================] - 2s 132ms/step - loss: 0.0966 - mae: 0.3582 - val_loss: 0.3128 - val_mae: 0.7329\n"
          ]
        }
      ]
    },
    {
      "cell_type": "code",
      "source": [
        "plt.plot(history.history['mae'])\n",
        "plt.plot(history.history['val_mae'])\n",
        "plt.title('Accuracy')\n",
        "plt.ylabel('Mae')\n",
        "plt.xlabel('epoch')\n",
        "plt.legend(['Train', 'Val'], loc='upper left')\n",
        "plt.show()"
      ],
      "metadata": {
        "colab": {
          "base_uri": "https://localhost:8080/",
          "height": 295
        },
        "id": "A4jbHNBYYpnB",
        "outputId": "eda1eb0a-0398-492a-ece7-7ae169219da4"
      },
      "execution_count": 16,
      "outputs": [
        {
          "output_type": "display_data",
          "data": {
            "text/plain": [
              "<Figure size 432x288 with 1 Axes>"
            ],
            "image/png": "[encoded data removed]"
          },
          "metadata": {
            "needs_background": "light"
          }
        }
      ]
    },
    {
      "cell_type": "code",
      "source": [
        "plt.plot(history.history['loss'])\n",
        "plt.plot(history.history['val_loss'])\n",
        "plt.title('Loss')\n",
        "plt.ylabel('loss')\n",
        "plt.xlabel('epoch')\n",
        "plt.legend(['Train', 'Val'], loc='upper left')\n",
        "plt.show()"
      ],
      "metadata": {
        "colab": {
          "base_uri": "https://localhost:8080/",
          "height": 295
        },
        "id": "8bQIaVfwYvg5",
        "outputId": "beed559c-e9e0-43c2-d42d-f22d75ae663c"
      },
      "execution_count": 17,
      "outputs": [
        {
          "output_type": "display_data",
          "data": {
            "text/plain": [
              "<Figure size 432x288 with 1 Axes>"
            ],
            "image/png": "[encoded data removed]"
          },
          "metadata": {
            "needs_background": "light"
          }
        }
      ]
    }
  ]
}